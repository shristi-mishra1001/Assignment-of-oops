{
  "nbformat": 4,
  "nbformat_minor": 0,
  "metadata": {
    "colab": {
      "provenance": []
    },
    "kernelspec": {
      "name": "python3",
      "display_name": "Python 3"
    },
    "language_info": {
      "name": "python"
    }
  },
  "cells": [
    {
      "cell_type": "markdown",
      "source": [
        "                     theary  Python  OOPs  Questions\n",
        "\n",
        "\n",
        "\n"
      ],
      "metadata": {
        "id": "zDQ2EBXEmu18"
      }
    },
    {
      "cell_type": "markdown",
      "source": [
        "   1.   What is Object-Oriented Programming (OOP)?\n",
        "\n",
        "   -> Object-Oriented Programming (OOP) is a programming paradigm based on objects that contain data (attributes) and methods (functions) to model real-world entities.\n",
        "   "
      ],
      "metadata": {
        "id": "Q2w0g7Qwnd2U"
      }
    },
    {
      "cell_type": "markdown",
      "source": [
        "   2.  What is a class in OOP?\n",
        "\n",
        "     -> A class in OOP is a blueprint or template used to create objects, defining their attributes (data) and methods (behavior)."
      ],
      "metadata": {
        "id": "Hb9ZWMWKoB1t"
      }
    },
    {
      "cell_type": "markdown",
      "source": [
        "  3. What is an object in OOP?\n",
        "\n",
        "     ->An object in OOP is an instance of a class that represents a real-world entity with its own data (attributes) and behavior (methods)."
      ],
      "metadata": {
        "id": "DvyQYEVYofKV"
      }
    },
    {
      "cell_type": "markdown",
      "source": [
        "    4. What is the difference between abstraction and encapsulation?\n",
        "\n",
        "  ->  Abstraction focuses on hiding implementation details and showing only essential features, while Encapsulation means bundling data and methods into a single unit (class) and restricting direct access to some components. ✅"
      ],
      "metadata": {
        "id": "DDdAh3ucozIV"
      }
    },
    {
      "cell_type": "markdown",
      "source": [
        "    5.What are dunder methods in Python?\n",
        "      \n",
        "      ->Dunder methods (double underscore methods) in Python are special predefined methods surrounded by __ (double underscores), used to define object behavior.\n",
        "\n",
        "Example:\n",
        "\n",
        "__init__ → initializes an object\n",
        "\n",
        "__str__ → returns string representation\n",
        "\n",
        "__len__ → defines behavior for len()\n",
        "\n",
        "They’re also called magic methods."
      ],
      "metadata": {
        "id": "ZLRsmau7nlAc"
      }
    },
    {
      "cell_type": "markdown",
      "source": [
        "     6. Explain the concept of inheritance in OOP?\n",
        "\n",
        "         ->Inheritance in OOP is a concept where a class (child/derived class) can reuse properties and methods of another class (parent/base class), allowing code reusability and hierarchy."
      ],
      "metadata": {
        "id": "O9HMOEkspfTG"
      }
    },
    {
      "cell_type": "markdown",
      "source": [
        "   7.   What is polymorphism in OOP?\n",
        "      \n",
        "      ->Polymorphism in OOP means the same function or method name can have different behaviors depending on the object that calls it.\n",
        "\n",
        "      \n",
        "   \n",
        "   "
      ],
      "metadata": {
        "id": "54tW5Nf0pzwG"
      }
    },
    {
      "cell_type": "markdown",
      "source": [
        "   8.How is encapsulation achieved in Python?\n",
        "\n",
        "     ->   Encapsulation in Python is achieved by restricting direct access to variables and methods using access modifiers:\n",
        "\n",
        "Public: accessible everywhere (name)\n",
        "\n",
        "Protected: conventionally internal (_name)\n",
        "\n",
        "Private: strongly restricted (__name)"
      ],
      "metadata": {
        "id": "HDqsOeQyqgkt"
      }
    },
    {
      "cell_type": "markdown",
      "source": [
        "     9.> What is a constructor in Python?\n",
        "\n",
        "       ->   A constructor in Python is a special method __init__() that is automatically called when an object is created, used to initialize its attributes.\n",
        "\n",
        "         example :\n",
        "\n",
        "class Student:\n",
        "    def __init__(self, name, age):  # constructor\n",
        "        self.name = name\n",
        "        self.age = age\n",
        "\n",
        "s = Student(\"Shristi\", 20)\n",
        "print(s.name, s.age)   # Output: Shristi 20\n",
        "\n",
        "\n",
        "\n",
        "\n",
        "\n"
      ],
      "metadata": {
        "id": "F7drjjjsq1Uu"
      }
    },
    {
      "cell_type": "markdown",
      "source": [
        "   10.   What are class and static methods in Python?\n",
        "\n",
        "\n",
        "   ->  In Python:\n",
        "\n",
        "Class Method (@classmethod) → Works with the class itself, not objects. It takes cls as the first parameter.\n",
        "\n",
        "Static Method (@staticmethod) → Independent of class and object; behaves like a normal function inside a class.\n",
        "\n",
        "Example:\n",
        "\n",
        "class Demo:\n",
        "    @classmethod\n",
        "    def class_method(cls):\n",
        "        return \"I am a class method\"\n",
        " @staticmethod\n",
        "    def static_method():\n",
        "        return \"I am a static method\"\n",
        "\n",
        "print(Demo.class_method())   # calls class method\n",
        "print(Demo.static_method())  # calls static method\n"
      ],
      "metadata": {
        "id": "wG10gvSGrSjH"
      }
    },
    {
      "cell_type": "markdown",
      "source": [
        "    11.   What is method overloading in Python?\n",
        "\n",
        "       ->  Method overloading in Python means having multiple methods with the same name but different parameters.\n",
        "\n",
        "👉 Python doesn’t support true overloading like Java or C++; instead, it achieves it using default arguments or by handling arguments dynamically (e.g., *args, **kwargs)."
      ],
      "metadata": {
        "id": "Dk2RzVzarzD3"
      }
    },
    {
      "cell_type": "markdown",
      "source": [
        "    12. What is method overriding in OOP?\n",
        "\n",
        "    -> Method overriding in OOP happens when a child class provides its own implementation of a method that already exists in the parent class, replacing the parent’s behavior.\n",
        "\n",
        "👉 It’s used to achieve runtime polymorphism."
      ],
      "metadata": {
        "id": "F8J_u6i3sHz2"
      }
    },
    {
      "cell_type": "markdown",
      "source": [
        "    13.  What is a property decorator in Python?\n",
        "\n",
        "     -> The @property decorator in Python is used to turn a method into a read-only attribute, allowing you to access it like a variable but still compute its value dynamically.\n",
        "\n",
        "👉 It helps implement getters/setters in a clean way."
      ],
      "metadata": {
        "id": "nX_LKJ9vsfNX"
      }
    },
    {
      "cell_type": "markdown",
      "source": [
        "     14. Why is polymorphism important in OOP?\n",
        "\n",
        "        -> Polymorphism is important in OOP because it allows:\n",
        "\n",
        "Code reusability → same interface, different implementations.\n",
        "\n",
        "Flexibility → objects of different classes can be used interchangeably.\n",
        "\n",
        "Extensibility → easy to add new classes without changing existing code.\n",
        "\n",
        "👉 In short, it makes code more general, modular, and easier to maintain."
      ],
      "metadata": {
        "id": "8eCXEq1TswBn"
      }
    },
    {
      "cell_type": "markdown",
      "source": [
        "\n",
        "15.  What is an abstract class in Python?\n",
        "   \n",
        "   ->  An abstract class in Python is a class that cannot be instantiated directly and may contain one or more abstract methods (methods declared but not implemented).\n",
        "\n",
        "👉 It’s defined using the abc module and serves as a blueprint for other classes.\n",
        "\n"
      ],
      "metadata": {
        "id": "OXnS3_zltC7X"
      }
    },
    {
      "cell_type": "markdown",
      "source": [
        "  16. What are the advantages of OOP?\n",
        "\n",
        "    ->Advantages of OOP:\n",
        "\n",
        "Modularity → Code is organized into classes/objects.\n",
        "\n",
        "Reusability → Inheritance allows reuse of existing code.\n",
        "\n",
        "Flexibility → Polymorphism enables different implementations with a common interface.\n",
        "\n",
        "Security → Encapsulation hides data and controls access.\n",
        "\n",
        "Maintainability → Easy to update, debug, and scale projects."
      ],
      "metadata": {
        "id": "ryiaKM6KtVxH"
      }
    },
    {
      "cell_type": "markdown",
      "source": [
        "    17.  What is the difference between a class variable and an instance variable?\n",
        "\n",
        "    ->   Class Variable → Shared by all objects of the class; defined inside the class but outside methods.\n",
        "\n",
        "Instance Variable → Unique to each object; defined inside methods (usually in __init__) using self.\n",
        "\n",
        "👉 In short: class variable = common for all objects, instance variable = specific to one object."
      ],
      "metadata": {
        "id": "w_Tr0Bn5tmj3"
      }
    },
    {
      "cell_type": "markdown",
      "source": [
        "    18.  What is multiple inheritance in Python?\n",
        "\n",
        "     ->  Multiple inheritance in Python means a class can inherit from more than one parent class at the same time, combining their features.\n",
        "\n",
        "👉 Python handles conflicts using the Method Resolution Order (MRO), which decides the order in which classes are searched for methods."
      ],
      "metadata": {
        "id": "f4LkxNR3t2Ew"
      }
    },
    {
      "cell_type": "markdown",
      "source": [
        "19. Explain the purpose of ‘’__str__’ and ‘__repr__’ ‘ methods in Python?\n",
        "\n",
        "->    In Python:\n",
        "\n",
        "__str__ → Defines the user-friendly string representation of an object (for print() or str()).\n",
        "\n",
        "__repr__ → Defines the developer-friendly string representation (for debugging, shown in REPL).\n",
        "\n",
        "👉 Rule of thumb:\n",
        "\n",
        "__str__ → readable for humans.\n",
        "\n",
        "__repr__ → unambiguous for developers.\n"
      ],
      "metadata": {
        "id": "LSe96YxXuHlY"
      }
    },
    {
      "cell_type": "markdown",
      "source": [
        "20.   What is the significance of the ‘super()’ function in Python?\n",
        "\n",
        "  ->The super() function in Python is used to call methods of a parent class from a child class.\n",
        "\n",
        "👉 Significance:\n",
        "\n",
        "Reuses parent class code without rewriting.\n",
        "\n",
        "Helps in method overriding by extending parent behavior.\n",
        "\n",
        "Works well with multiple inheritance via MRO (Method Resolution Order)."
      ],
      "metadata": {
        "id": "GQVTbyQKuYg4"
      }
    },
    {
      "cell_type": "markdown",
      "source": [
        "21.    What is the significance of the __del__ method in Python?\n",
        "\n",
        "  ->  The __del__ method in Python is a destructor, called automatically when an object is about to be destroyed (garbage collected).\n",
        "\n",
        "👉 Significance:\n",
        "\n",
        "Used to clean up resources (like closing files or database connections).\n",
        "\n",
        "Not always predictable when it’s called (depends on garbage collection).\n",
        "\n",
        "In short: __init__ = constructor (create), __del__ = destructor (cleanup). ✅"
      ],
      "metadata": {
        "id": "OkdFbTS9unmf"
      }
    },
    {
      "cell_type": "markdown",
      "source": [
        "  22.  What is the difference between @staticmethod and @classmethod in Python?\n",
        "\n",
        "      ->  Here’s the difference between @staticmethod and @classmethod in Python:\n",
        "\n",
        "@staticmethod\n",
        "\n",
        "Doesn’t take self or cls as the first argument.\n",
        "\n",
        "Works like a normal function inside a class.\n",
        "\n",
        "Can’t access or modify class/object state.\n",
        "\n",
        "@classmethod\n",
        "\n",
        "Takes cls as the first argument.\n",
        "\n",
        "Works with the class itself, not individual objects.\n",
        "\n",
        "Can access or modify class variables.\n",
        "\n",
        "👉 In short:\n",
        "\n",
        "@staticmethod → Utility function inside a class.\n",
        "\n",
        "@classmethod → Operates on the class as a whole."
      ],
      "metadata": {
        "id": "ydNx0uchu4eo"
      }
    },
    {
      "cell_type": "markdown",
      "source": [
        "    23.  How does polymorphism work in Python with inheritance?\n",
        "\n",
        "     ->  In Python, polymorphism with inheritance works when a child class overrides a parent class method, and the same method call behaves differently depending on the object type.\n",
        "\n",
        "👉 Example:\n",
        "\n",
        "Parent defines a method.\n",
        "\n",
        "Child classes override it.\n",
        "\n",
        "When called, Python decides at runtime which version to run (based on the object).\n",
        "\n",
        "This allows the same interface (method name) to work with different implementations across related class\n"
      ],
      "metadata": {
        "id": "TKdgv5M0vX9B"
      }
    },
    {
      "cell_type": "markdown",
      "source": [
        "24.    What is method chaining in Python OOP?\n",
        "\n",
        "  ->Method chaining in Python OOP is a technique where multiple methods are called in a single line on the same object, because each method returns the object (self).\n",
        "\n",
        "👉 Example flow:\n",
        "\n",
        "obj.method1().method2().method3()\n",
        "\n",
        "\n",
        "Each method modifies/uses the object and returns self, allowing continuous calls.\n",
        "This makes code concise and readable. ✅\n"
      ],
      "metadata": {
        "id": "R9a3l7pJvpZI"
      }
    },
    {
      "cell_type": "markdown",
      "source": [
        "25.    What is the purpose of the __call__ method in Python?\n",
        "\n",
        "\n",
        "    ->     The __call__ method in Python lets an object be called like a function.\n",
        "\n",
        "👉 Purpose:\n",
        "\n",
        "Makes class instances callable.\n",
        "\n",
        "Useful for creating function-like objects, callbacks, or wrappers.\n",
        "\n",
        "Example idea:\n",
        "If a class defines __call__, you can do:\n",
        "\n",
        "obj = MyClass()\n",
        "obj()   # calls obj.__call__()\n",
        "\n",
        "\n",
        "So, it gives objects function behavior while still keeping OOP features. ✅"
      ],
      "metadata": {
        "id": "hT_F9ZYhv5O4"
      }
    },
    {
      "cell_type": "markdown",
      "source": [
        "             Practical question in oops"
      ],
      "metadata": {
        "id": "Oa4gbJNYwbCZ"
      }
    },
    {
      "cell_type": "markdown",
      "source": [
        "      1. Create a parent class Animal with a method speak() that prints a generic message. Create a child class Dog that overrides the speak() method to print \"Bark!\"."
      ],
      "metadata": {
        "id": "Fg78KIzhwhjp"
      }
    },
    {
      "cell_type": "code",
      "source": [
        "# Parent class\n",
        "class Animal:\n",
        "    def speak(self):\n",
        "        print(\"Animal makes a sound\")\n",
        "\n",
        "# Child class\n",
        "class Dog(Animal):\n",
        "    def speak(self):  # overriding the parent method\n",
        "        print(\"Bark!\")\n",
        "\n",
        "# Create objects\n",
        "a = Animal()\n",
        "d = Dog()\n",
        "\n",
        "# Method calls\n",
        "a.speak()  # Output: Animal makes a sound\n",
        "d.speak()  # Output: Bark!\n"
      ],
      "metadata": {
        "colab": {
          "base_uri": "https://localhost:8080/"
        },
        "id": "6_FViMZDxP1z",
        "outputId": "79b5c351-d707-4e9b-a4f9-055f61d724fd"
      },
      "execution_count": 1,
      "outputs": [
        {
          "output_type": "stream",
          "name": "stdout",
          "text": [
            "Animal makes a sound\n",
            "Bark!\n"
          ]
        }
      ]
    },
    {
      "cell_type": "markdown",
      "source": [
        "2. Write a program to create an abstract class Shape with a method area(). Derive classes Circle and Rectangle from it and implement the area() method in both."
      ],
      "metadata": {
        "id": "nH5Ywyt_xV55"
      }
    },
    {
      "cell_type": "code",
      "source": [
        "from abc import ABC, abstractmethod\n",
        "import math\n",
        "\n",
        "# Abstract class\n",
        "class Shape(ABC):\n",
        "    @abstractmethod\n",
        "    def area(self):\n",
        "        pass\n",
        "\n",
        "# Derived class Circle\n",
        "class Circle(Shape):\n",
        "    def __init__(self, radius):\n",
        "        self.radius = radius\n",
        "\n",
        "    def area(self):\n",
        "        return math.pi * self.radius * self.radius\n",
        "\n",
        "# Derived class Rectangle\n",
        "class Rectangle(Shape):\n",
        "    def __init__(self, length, width):\n",
        "        self.length = length\n",
        "        self.width = width\n",
        "\n",
        "    def area(self):\n",
        "        return self.length * self.width\n",
        "\n",
        "# Testing\n",
        "c = Circle(5)\n",
        "r = Rectangle(4, 6)\n",
        "\n",
        "print(\"Circle Area:\", c.area())       # Output: 78.54...\n",
        "print(\"Rectangle Area:\", r.area())   # Output: 24\n"
      ],
      "metadata": {
        "colab": {
          "base_uri": "https://localhost:8080/"
        },
        "id": "4LKPw-mqxqJZ",
        "outputId": "e4de2d0a-40a2-48f5-d732-5953f2803395"
      },
      "execution_count": 2,
      "outputs": [
        {
          "output_type": "stream",
          "name": "stdout",
          "text": [
            "Circle Area: 78.53981633974483\n",
            "Rectangle Area: 24\n"
          ]
        }
      ]
    },
    {
      "cell_type": "markdown",
      "source": [
        "3. Implement a multi-level inheritance scenario where a class Vehicle has an attribute type. Derive a class Car\n",
        "and further derive a class ElectricCar that adds a battery attribute."
      ],
      "metadata": {
        "id": "PPb27TynxuFW"
      }
    },
    {
      "cell_type": "code",
      "source": [
        "# Base class\n",
        "class Vehicle:\n",
        "    def __init__(self, v_type):\n",
        "        self.v_type = v_type\n",
        "\n",
        "    def show_type(self):\n",
        "        print(\"Vehicle Type:\", self.v_type)\n",
        "\n",
        "# Derived class from Vehicle\n",
        "class Car(Vehicle):\n",
        "    def __init__(self, v_type, brand):\n",
        "        super().__init__(v_type)  # call parent constructor\n",
        "        self.brand = brand\n",
        "\n",
        "    def show_car(self):\n",
        "        print(\"Car Brand:\", self.brand)\n",
        "\n",
        "# Derived class from Car\n",
        "class ElectricCar(Car):\n",
        "    def __init__(self, v_type, brand, battery):\n",
        "        super().__init__(v_type, brand)  # call Car constructor\n",
        "        self.battery = battery\n",
        "\n",
        "    def show_electric_car(self):\n",
        "        print(\"Battery Capacity:\", self.battery, \"kWh\")\n",
        "\n",
        "\n",
        "# Testing\n",
        "e_car = ElectricCar(\"Four Wheeler\", \"Tesla\", 85)\n",
        "\n",
        "e_car.show_type()         # From Vehicle\n",
        "e_car.show_car()          # From Car\n",
        "e_car.show_electric_car() # From ElectricCar\n"
      ],
      "metadata": {
        "colab": {
          "base_uri": "https://localhost:8080/"
        },
        "id": "0L2Ecz17x9Kb",
        "outputId": "e2dd3096-5217-4c9f-819d-4d77e88f6f83"
      },
      "execution_count": 3,
      "outputs": [
        {
          "output_type": "stream",
          "name": "stdout",
          "text": [
            "Vehicle Type: Four Wheeler\n",
            "Car Brand: Tesla\n",
            "Battery Capacity: 85 kWh\n"
          ]
        }
      ]
    },
    {
      "cell_type": "markdown",
      "source": [
        "4. Demonstrate polymorphism by creating a base class Bird with a method fly(). Create two derived classes\n",
        "Sparrow and Penguin that override the fly() method.\n"
      ],
      "metadata": {
        "id": "k3u5JQ-syEIx"
      }
    },
    {
      "cell_type": "code",
      "source": [
        "# Base class\n",
        "class Bird:\n",
        "    def fly(self):\n",
        "        print(\"Birds can fly (in general)\")\n",
        "\n",
        "# Derived class Sparrow\n",
        "class Sparrow(Bird):\n",
        "    def fly(self):   # overriding\n",
        "        print(\"Sparrow flies high in the sky!\")\n",
        "\n",
        "# Derived class Penguin\n",
        "class Penguin(Bird):\n",
        "    def fly(self):   # overriding\n",
        "        print(\"Penguins cannot fly, they swim instead!\")\n",
        "\n",
        "# Polymorphism in action\n",
        "birds = [Sparrow(), Penguin()]\n",
        "\n",
        "for b in birds:\n",
        "    b.fly()   # Same method name, different behavior\n"
      ],
      "metadata": {
        "colab": {
          "base_uri": "https://localhost:8080/"
        },
        "id": "N1Sp_6VlyJMU",
        "outputId": "60b21871-7ba0-4c43-f72c-9ae36fef4591"
      },
      "execution_count": 4,
      "outputs": [
        {
          "output_type": "stream",
          "name": "stdout",
          "text": [
            "Sparrow flies high in the sky!\n",
            "Penguins cannot fly, they swim instead!\n"
          ]
        }
      ]
    },
    {
      "cell_type": "markdown",
      "source": [
        "5. Write a program to demonstrate encapsulation by creating a class BankAccount with private attributes\n",
        "balance and methods to deposit, withdraw, and check balance."
      ],
      "metadata": {
        "id": "dSjnZsX_yQjL"
      }
    },
    {
      "cell_type": "code",
      "source": [
        "class BankAccount:\n",
        "    def __init__(self, initial_balance=0):\n",
        "        self.__balance = initial_balance   # private attribute\n",
        "\n",
        "    # Deposit method\n",
        "    def deposit(self, amount):\n",
        "        if amount > 0:\n",
        "            self.__balance += amount\n",
        "            print(f\"Deposited: {amount}\")\n",
        "        else:\n",
        "            print(\"Invalid deposit amount\")\n",
        "\n",
        "    # Withdraw method\n",
        "    def withdraw(self, amount):\n",
        "        if 0 < amount <= self.__balance:\n",
        "            self.__balance -= amount\n",
        "            print(f\"Withdrew: {amount}\")\n",
        "        else:\n",
        "            print(\"Insufficient balance or invalid amount\")\n",
        "\n",
        "    # Getter method to check balance\n",
        "    def get_balance(self):\n",
        "        return self.__balance\n",
        "\n",
        "\n",
        "# Testing\n",
        "account = BankAccount(1000)  # initial balance\n",
        "account.deposit(500)\n",
        "account.withdraw(300)\n",
        "print(\"Current Balance:\", account.get_balance())\n"
      ],
      "metadata": {
        "colab": {
          "base_uri": "https://localhost:8080/"
        },
        "id": "5HckSBIjyaZy",
        "outputId": "d34c29f6-f725-49b2-c917-b6bf531e8f2c"
      },
      "execution_count": 5,
      "outputs": [
        {
          "output_type": "stream",
          "name": "stdout",
          "text": [
            "Deposited: 500\n",
            "Withdrew: 300\n",
            "Current Balance: 1200\n"
          ]
        }
      ]
    },
    {
      "cell_type": "markdown",
      "source": [
        "6. Demonstrate runtime polymorphism using a method play() in a base class Instrument. Derive classes Guitar\n",
        "and Piano that implement their own version of play().\n",
        "\n",
        "\n"
      ],
      "metadata": {
        "id": "Cwqb-HPqyeNS"
      }
    },
    {
      "cell_type": "code",
      "source": [
        "# Base class\n",
        "class Instrument:\n",
        "    def play(self):\n",
        "        print(\"Playing an instrument\")\n",
        "\n",
        "# Derived class Guitar\n",
        "class Guitar(Instrument):\n",
        "    def play(self):   # overriding\n",
        "        print(\"Strumming the guitar 🎸\")\n",
        "\n",
        "# Derived class Piano\n",
        "class Piano(Instrument):\n",
        "    def play(self):   # overriding\n",
        "        print(\"Playing the piano 🎹\")\n",
        "\n",
        "# Runtime polymorphism in action\n",
        "instruments = [Guitar(), Piano()]\n",
        "\n",
        "for inst in instruments:\n",
        "    inst.play()   # Same method name, different behavior at runtime\n"
      ],
      "metadata": {
        "colab": {
          "base_uri": "https://localhost:8080/"
        },
        "id": "kXR52ouUyoRi",
        "outputId": "ef369a64-1987-4579-be1b-96bb43e59f9f"
      },
      "execution_count": 6,
      "outputs": [
        {
          "output_type": "stream",
          "name": "stdout",
          "text": [
            "Strumming the guitar 🎸\n",
            "Playing the piano 🎹\n"
          ]
        }
      ]
    },
    {
      "cell_type": "markdown",
      "source": [
        "     7. Create a class MathOperations with a class method add_numbers() to add two numbers and a static\n",
        "method subtract_numbers() to subtract two numbers"
      ],
      "metadata": {
        "id": "Zs9bAebOyvmi"
      }
    },
    {
      "cell_type": "code",
      "source": [
        "class MathOperations:\n",
        "    # Class method\n",
        "    @classmethod\n",
        "    def add_numbers(cls, a, b):\n",
        "        return a + b\n",
        "\n",
        "    # Static method\n",
        "    @staticmethod\n",
        "    def subtract_numbers(a, b):\n",
        "        return a - b\n",
        "\n",
        "\n",
        "# Testing\n",
        "print(\"Addition:\", MathOperations.add_numbers(10, 5))     # 15\n",
        "print(\"Subtraction:\", MathOperations.subtract_numbers(10, 5))  # 5\n"
      ],
      "metadata": {
        "colab": {
          "base_uri": "https://localhost:8080/"
        },
        "id": "69kQ47Jyy3Y6",
        "outputId": "55649160-14bf-42b5-a0ca-995e61033215"
      },
      "execution_count": 7,
      "outputs": [
        {
          "output_type": "stream",
          "name": "stdout",
          "text": [
            "Addition: 15\n",
            "Subtraction: 5\n"
          ]
        }
      ]
    },
    {
      "cell_type": "markdown",
      "source": [
        "8. Implement a class Person with a class method to count the total number of persons created.\n",
        "\n",
        "\n"
      ],
      "metadata": {
        "id": "Wa5DA0UPzAML"
      }
    },
    {
      "cell_type": "code",
      "source": [
        "class Person:\n",
        "    count = 0   # class variable\n",
        "\n",
        "    def __init__(self, name):\n",
        "        self.name = name\n",
        "        Person.count += 1   # increment when object is created\n",
        "\n",
        "    @classmethod\n",
        "    def total_persons(cls):\n",
        "        return cls.count\n",
        "\n",
        "\n",
        "# Testing\n",
        "p1 = Person(\"Alice\")\n",
        "p2 = Person(\"Bob\")\n",
        "p3 = Person(\"Charlie\")\n",
        "\n",
        "print(\"Total persons created:\", Person.total_persons())\n"
      ],
      "metadata": {
        "colab": {
          "base_uri": "https://localhost:8080/"
        },
        "id": "6qJCPhdCzF-K",
        "outputId": "13db4e0a-b60a-4d9d-9563-4dd8eec89ce5"
      },
      "execution_count": 8,
      "outputs": [
        {
          "output_type": "stream",
          "name": "stdout",
          "text": [
            "Total persons created: 3\n"
          ]
        }
      ]
    },
    {
      "cell_type": "markdown",
      "source": [
        "9. Write a class Fraction with attributes numerator and denominator. Override the str method to display the\n",
        "fraction as \"numerator/denominator\"."
      ],
      "metadata": {
        "id": "Vjk2XCZAzQSL"
      }
    },
    {
      "cell_type": "code",
      "source": [
        "class Fraction:\n",
        "    def __init__(self, numerator, denominator):\n",
        "        self.numerator = numerator\n",
        "        self.denominator = denominator\n",
        "\n",
        "    # Override __str__\n",
        "    def __str__(self):\n",
        "        return f\"{self.numerator}/{self.denominator}\"\n",
        "\n",
        "\n",
        "# Testing\n",
        "f1 = Fraction(3, 4)\n",
        "f2 = Fraction(7, 2)\n",
        "\n",
        "print(f1)  # Output: 3/4\n",
        "print(f2)  # Output: 7/2\n"
      ],
      "metadata": {
        "colab": {
          "base_uri": "https://localhost:8080/"
        },
        "id": "rbm8Ew1uzVni",
        "outputId": "dd8f7ef7-0b56-448a-f942-e19a29e9c46f"
      },
      "execution_count": 9,
      "outputs": [
        {
          "output_type": "stream",
          "name": "stdout",
          "text": [
            "3/4\n",
            "7/2\n"
          ]
        }
      ]
    },
    {
      "cell_type": "markdown",
      "source": [
        "10. Demonstrate operator overloading by creating a class Vector and overriding the add method to add two vector."
      ],
      "metadata": {
        "id": "aDnLS-gazghF"
      }
    },
    {
      "cell_type": "code",
      "source": [
        "class Vector:\n",
        "    def __init__(self, x, y):\n",
        "        self.x = x\n",
        "        self.y = y\n",
        "\n",
        "    # Operator overloading for +\n",
        "    def __add__(self, other):\n",
        "        return Vector(self.x + other.x, self.y + other.y)\n",
        "\n",
        "    # String representation\n",
        "    def __str__(self):\n",
        "        return f\"({self.x}, {self.y})\"\n",
        "\n",
        "\n",
        "# Testing\n",
        "v1 = Vector(2, 3)\n",
        "v2 = Vector(4, 5)\n",
        "\n",
        "v3 = v1 + v2   # calls __add__\n",
        "\n",
        "print(\"Vector 1:\", v1)\n",
        "print(\"Vector 2:\", v2)\n",
        "print(\"Sum:\", v3)\n"
      ],
      "metadata": {
        "colab": {
          "base_uri": "https://localhost:8080/"
        },
        "id": "GsIbhulXzvYa",
        "outputId": "dfef1e1f-dd79-47aa-f8f5-720a7326e609"
      },
      "execution_count": 10,
      "outputs": [
        {
          "output_type": "stream",
          "name": "stdout",
          "text": [
            "Vector 1: (2, 3)\n",
            "Vector 2: (4, 5)\n",
            "Sum: (6, 8)\n"
          ]
        }
      ]
    },
    {
      "cell_type": "markdown",
      "source": [
        "11. Create a class Person with attributes name and age. Add a method greet() that prints \"Hello, my name is\n",
        "{name} and I am {age} years old.\""
      ],
      "metadata": {
        "id": "jss95yP_z-Qs"
      }
    },
    {
      "cell_type": "code",
      "source": [
        "class Person:\n",
        "    def __init__(self, name, age):\n",
        "        self.name = name\n",
        "        self.age = age\n",
        "\n",
        "    def greet(self):\n",
        "        print(f\"Hello, my name is {self.name} and I am {self.age} years old.\")\n",
        "\n",
        "\n",
        "# Testing\n",
        "p1 = Person(\"Alice\", 25)\n",
        "p2 = Person(\"Bob\", 30)\n",
        "\n",
        "p1.greet()\n",
        "p2.greet()\n"
      ],
      "metadata": {
        "colab": {
          "base_uri": "https://localhost:8080/"
        },
        "id": "wzdiHXin0G5r",
        "outputId": "aaa2480a-975f-4904-fc03-7ca2e1208197"
      },
      "execution_count": 11,
      "outputs": [
        {
          "output_type": "stream",
          "name": "stdout",
          "text": [
            "Hello, my name is Alice and I am 25 years old.\n",
            "Hello, my name is Bob and I am 30 years old.\n"
          ]
        }
      ]
    },
    {
      "cell_type": "markdown",
      "source": [
        "12. Implement a class Student with attributes name and grades. Create a method average_grade() to compute\n",
        "the average of the grades."
      ],
      "metadata": {
        "id": "ROWX5bTN0UOT"
      }
    },
    {
      "cell_type": "code",
      "source": [
        "class Student:\n",
        "    def __init__(self, name, grades):\n",
        "        self.name = name\n",
        "        self.grades = grades   # list of grades\n",
        "\n",
        "    def average_grade(self):\n",
        "        if len(self.grades) == 0:\n",
        "            return 0\n",
        "        return sum(self.grades) / len(self.grades)\n",
        "\n",
        "\n",
        "# Testing\n",
        "s1 = Student(\"Alice\", [85, 90, 78])\n",
        "s2 = Student(\"Bob\", [92, 88, 95, 100])\n",
        "\n",
        "print(f\"{s1.name}'s Average Grade:\", s1.average_grade())\n",
        "print(f\"{s2.name}'s Average Grade:\", s2.average_grade())\n"
      ],
      "metadata": {
        "colab": {
          "base_uri": "https://localhost:8080/"
        },
        "id": "hFj55LoC0Ypr",
        "outputId": "8e9013fc-5c91-42b2-f637-b5977b0c91b6"
      },
      "execution_count": 12,
      "outputs": [
        {
          "output_type": "stream",
          "name": "stdout",
          "text": [
            "Alice's Average Grade: 84.33333333333333\n",
            "Bob's Average Grade: 93.75\n"
          ]
        }
      ]
    },
    {
      "cell_type": "markdown",
      "source": [
        "13. Create a class Rectangle with methods set_dimensions() to set the dimensions and area() to calculate the area"
      ],
      "metadata": {
        "id": "gMqJWTZI0fyz"
      }
    },
    {
      "cell_type": "code",
      "source": [
        "class Rectangle:\n",
        "    def __init__(self):\n",
        "        self.length = 0\n",
        "        self.width = 0\n",
        "\n",
        "    def set_dimensions(self, length, width):\n",
        "        self.length = length\n",
        "        self.width = width\n",
        "\n",
        "    def area(self):\n",
        "        return self.length * self.width\n",
        "\n",
        "\n",
        "# Testing\n",
        "rect = Rectangle()\n",
        "rect.set_dimensions(5, 3)\n",
        "print(\"Area of Rectangle:\", rect.area())\n"
      ],
      "metadata": {
        "colab": {
          "base_uri": "https://localhost:8080/"
        },
        "id": "6pzUvy8n0u1c",
        "outputId": "950430ee-79fb-42cd-c01f-f5ff0143a256"
      },
      "execution_count": 13,
      "outputs": [
        {
          "output_type": "stream",
          "name": "stdout",
          "text": [
            "Area of Rectangle: 15\n"
          ]
        }
      ]
    },
    {
      "cell_type": "markdown",
      "source": [
        "14. Create a class Employee with a method calculate_salary() that computes the salary based on hours worked\n",
        "and hourly rate. Create a derived class Manager that adds a bonus to the salary"
      ],
      "metadata": {
        "id": "WIeWZfc70yVU"
      }
    },
    {
      "cell_type": "code",
      "source": [
        "class Employee:\n",
        "    def __init__(self, name, hours_worked, hourly_rate):\n",
        "        self.name = name\n",
        "        self.hours_worked = hours_worked\n",
        "        self.hourly_rate = hourly_rate\n",
        "\n",
        "    def calculate_salary(self):\n",
        "        return self.hours_worked * self.hourly_rate\n",
        "\n",
        "\n",
        "class Manager(Employee):\n",
        "    def __init__(self, name, hours_worked, hourly_rate, bonus):\n",
        "        super().__init__(name, hours_worked, hourly_rate)  # call parent constructor\n",
        "        self.bonus = bonus\n",
        "\n",
        "    def calculate_salary(self):  # overriding\n",
        "        return super().calculate_salary() + self.bonus\n",
        "\n",
        "\n",
        "# Testing\n",
        "emp = Employee(\"Alice\", 40, 20)   # 40 hrs × 20/hr\n",
        "mgr = Manager(\"Bob\", 45, 30, 500) # 45 hrs × 30/hr + 500 bonus\n",
        "\n",
        "print(f\"{emp.name}'s Salary:\", emp.calculate_salary())\n",
        "print(f\"{mgr.name}'s Salary:\", mgr.calculate_salary())\n"
      ],
      "metadata": {
        "colab": {
          "base_uri": "https://localhost:8080/"
        },
        "id": "tlzKEReN048U",
        "outputId": "f610835d-71d9-4d07-eed7-9268ce015868"
      },
      "execution_count": 14,
      "outputs": [
        {
          "output_type": "stream",
          "name": "stdout",
          "text": [
            "Alice's Salary: 800\n",
            "Bob's Salary: 1850\n"
          ]
        }
      ]
    },
    {
      "cell_type": "markdown",
      "source": [
        "15. 15. Create a class Product with attributes name, price, and quantity. Implement a method total_price() that\n",
        "calculates the total price of the product."
      ],
      "metadata": {
        "id": "_y1KJmqR1B6T"
      }
    },
    {
      "cell_type": "code",
      "source": [
        "class Product:\n",
        "    def __init__(self, name, price, quantity):\n",
        "        self.name = name\n",
        "        self.price = price\n",
        "        self.quantity = quantity\n",
        "\n",
        "    def total_price(self):\n",
        "        return self.price * self.quantity\n",
        "\n",
        "\n",
        "# Testing\n",
        "p1 = Product(\"Laptop\", 50000, 2)\n",
        "p2 = Product(\"Mobile\", 15000, 3)\n",
        "\n",
        "print(f\"{p1.name} Total Price: ₹{p1.total_price()}\")\n",
        "print(f\"{p2.name} Total Price: ₹{p2.total_price()}\")\n"
      ],
      "metadata": {
        "colab": {
          "base_uri": "https://localhost:8080/"
        },
        "id": "gCViMczs1KmD",
        "outputId": "9fba92fe-f707-4ff2-d13f-c52378185646"
      },
      "execution_count": 15,
      "outputs": [
        {
          "output_type": "stream",
          "name": "stdout",
          "text": [
            "Laptop Total Price: ₹100000\n",
            "Mobile Total Price: ₹45000\n"
          ]
        }
      ]
    },
    {
      "cell_type": "markdown",
      "source": [
        "16. Create a class Animal with an abstract method sound(). Create two derived classes Cow and Sheep that\n",
        "implement the sound() method.\n",
        "\n",
        "\n"
      ],
      "metadata": {
        "id": "ahj6O4Jd1Ufb"
      }
    },
    {
      "cell_type": "code",
      "source": [
        "from abc import ABC, abstractmethod\n",
        "\n",
        "# Abstract base class\n",
        "class Animal(ABC):\n",
        "    @abstractmethod\n",
        "    def sound(self):\n",
        "        pass\n",
        "\n",
        "# Derived class Cow\n",
        "class Cow(Animal):\n",
        "    def sound(self):\n",
        "        return \"Moo\"\n",
        "\n",
        "# Derived class Sheep\n",
        "class Sheep(Animal):\n",
        "    def sound(self):\n",
        "        return \"Baa\"\n",
        "\n",
        "# Testing\n",
        "animals = [Cow(), Sheep()]\n",
        "\n",
        "for a in animals:\n",
        "    print(a.sound())\n"
      ],
      "metadata": {
        "colab": {
          "base_uri": "https://localhost:8080/"
        },
        "id": "OEyTX0O-1ZXd",
        "outputId": "4cda4580-a2b4-4eed-dabb-af8be2f0006a"
      },
      "execution_count": 16,
      "outputs": [
        {
          "output_type": "stream",
          "name": "stdout",
          "text": [
            "Moo\n",
            "Baa\n"
          ]
        }
      ]
    },
    {
      "cell_type": "markdown",
      "source": [
        "17. Create a class Book with attributes title, author, and year_published. Add a method get_book_info() that\n",
        "returns a formatted string with the book's details"
      ],
      "metadata": {
        "id": "ZVoiuOAi1gJm"
      }
    },
    {
      "cell_type": "code",
      "source": [
        "class Book:\n",
        "    def __init__(self, title, author, year_published):\n",
        "        self.title = title\n",
        "        self.author = author\n",
        "        self.year_published = year_published\n",
        "\n",
        "    def get_book_info(self):\n",
        "        return f\"'{self.title}' by {self.author}, published in {self.year_published}\"\n",
        "\n",
        "\n",
        "# Testing\n",
        "b1 = Book(\"To Kill a Mockingbird\", \"Harper Lee\", 1960)\n",
        "b2 = Book(\"1984\", \"George Orwell\", 1949)\n",
        "\n",
        "print(b1.get_book_info())\n",
        "print(b2.get_book_info())\n"
      ],
      "metadata": {
        "colab": {
          "base_uri": "https://localhost:8080/"
        },
        "id": "JXVZXGs21k1k",
        "outputId": "d2d70395-4b12-40d0-c714-fcb37f0ec94b"
      },
      "execution_count": 17,
      "outputs": [
        {
          "output_type": "stream",
          "name": "stdout",
          "text": [
            "'To Kill a Mockingbird' by Harper Lee, published in 1960\n",
            "'1984' by George Orwell, published in 1949\n"
          ]
        }
      ]
    },
    {
      "cell_type": "markdown",
      "source": [
        "18. Create a class House with attributes address and price. Create a derived class Mansion that adds an\n",
        "attribute number_of_rooms."
      ],
      "metadata": {
        "id": "-FT3tTqp1s_9"
      }
    },
    {
      "cell_type": "code",
      "source": [
        "class House:\n",
        "    def __init__(self, address, price):\n",
        "        self.address = address\n",
        "        self.price = price\n",
        "\n",
        "    def house_info(self):\n",
        "        return f\"House at {self.address}, Price: ₹{self.price}\"\n",
        "\n",
        "\n",
        "class Mansion(House):\n",
        "    def __init__(self, address, price, number_of_rooms):\n",
        "        super().__init__(address, price)  # call parent constructor\n",
        "        self.number_of_rooms = number_of_rooms\n",
        "\n",
        "    def mansion_info(self):\n",
        "        return f\"{self.house_info()}, Rooms: {self.number_of_rooms}\"\n",
        "\n",
        "\n",
        "# Testing\n",
        "h1 = House(\"123 Main Street\", 5000000)\n",
        "m1 = Mansion(\"456 Luxury Ave\", 20000000, 15)\n",
        "\n",
        "print(h1.house_info())\n",
        "print(m1.mansion_info())\n"
      ],
      "metadata": {
        "colab": {
          "base_uri": "https://localhost:8080/"
        },
        "id": "h2QeaT0q1yIN",
        "outputId": "2774e61a-235d-4fb4-e896-4391830db825"
      },
      "execution_count": 18,
      "outputs": [
        {
          "output_type": "stream",
          "name": "stdout",
          "text": [
            "House at 123 Main Street, Price: ₹5000000\n",
            "House at 456 Luxury Ave, Price: ₹20000000, Rooms: 15\n"
          ]
        }
      ]
    }
  ]
}